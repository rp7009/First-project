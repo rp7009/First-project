{
  "nbformat": 4,
  "nbformat_minor": 0,
  "metadata": {
    "colab": {
      "name": "practice codewars.ipynb",
      "provenance": [],
      "authorship_tag": "ABX9TyO331PDIlXLrJ+j2/PvBNhP",
      "include_colab_link": true
    },
    "kernelspec": {
      "name": "python3",
      "display_name": "Python 3"
    }
  },
  "cells": [
    {
      "cell_type": "markdown",
      "metadata": {
        "id": "view-in-github",
        "colab_type": "text"
      },
      "source": [
        "<a href=\"https://colab.research.google.com/github/rp7009/First-project/blob/master/practice_codewars.ipynb\" target=\"_parent\"><img src=\"https://colab.research.google.com/assets/colab-badge.svg\" alt=\"Open In Colab\"/></a>"
      ]
    },
    {
      "cell_type": "code",
      "metadata": {
        "id": "jMyLWRKekHZb"
      },
      "source": [
        "import pandas as  pd"
      ],
      "execution_count": null,
      "outputs": []
    },
    {
      "cell_type": "code",
      "metadata": {
        "id": "CHwo7dHIORDw"
      },
      "source": [
        ""
      ],
      "execution_count": null,
      "outputs": []
    },
    {
      "cell_type": "code",
      "metadata": {
        "id": "iStqzdqS6rh_",
        "outputId": "abba4f38-c6d8-463b-9540-9432fb2f6e39",
        "colab": {
          "base_uri": "https://localhost:8080/",
          "height": 34
        }
      },
      "source": [
        "my_list=[\"codewars\",\"abc\",\"xyz\"]\n",
        "k=1\n",
        "res=[]\n",
        "for i in my_list:\n",
        "  a=sum([ord(j)-96 for j in i.replace(\" \", \"\")])*k\n",
        "  k+=1\n",
        "  res.append(a)\n",
        "res"
      ],
      "execution_count": null,
      "outputs": [
        {
          "output_type": "execute_result",
          "data": {
            "text/plain": [
              "[88, 12, 225]"
            ]
          },
          "metadata": {
            "tags": []
          },
          "execution_count": 15
        }
      ]
    },
    {
      "cell_type": "code",
      "metadata": {
        "id": "5XEDL-FZKOf6",
        "outputId": "10c9aa27-6534-48d0-d318-b6f36cb5c1f6",
        "colab": {
          "base_uri": "https://localhost:8080/",
          "height": 34
        }
      },
      "source": [
        "ls=[1, 2, 3, 4, 5, 6]\n",
        "r=sum(ls)\n",
        "res=[]\n",
        "res.append(r)\n",
        "for i in ls:\n",
        "  r=r-i\n",
        "  res.append(r)\n",
        "res"
      ],
      "execution_count": null,
      "outputs": [
        {
          "output_type": "execute_result",
          "data": {
            "text/plain": [
              "[21, 20, 18, 15, 11, 6, 0]"
            ]
          },
          "metadata": {
            "tags": []
          },
          "execution_count": 30
        }
      ]
    },
    {
      "cell_type": "code",
      "metadata": {
        "id": "-UApWLNUKmbN"
      },
      "source": [
        "ls=[1, 2, 3, 4, 5, 6]\n",
        "res=list(np.cumsum(ls[::-1])[::-1])"
      ],
      "execution_count": null,
      "outputs": []
    },
    {
      "cell_type": "code",
      "metadata": {
        "id": "ezcN9yEcRpTN"
      },
      "source": [
        "res.append(0)"
      ],
      "execution_count": null,
      "outputs": []
    },
    {
      "cell_type": "code",
      "metadata": {
        "id": "E_yiGNWRR0Vv",
        "outputId": "1701ef8d-4a2a-445d-9abd-a8abb52d2b9d",
        "colab": {
          "base_uri": "https://localhost:8080/",
          "height": 34
        }
      },
      "source": [
        "res"
      ],
      "execution_count": null,
      "outputs": [
        {
          "output_type": "execute_result",
          "data": {
            "text/plain": [
              "[21, 20, 18, 15, 11, 6, 0]"
            ]
          },
          "metadata": {
            "tags": []
          },
          "execution_count": 53
        }
      ]
    },
    {
      "cell_type": "code",
      "metadata": {
        "id": "N1i-NUTSROfd"
      },
      "source": [
        "import numpy as np"
      ],
      "execution_count": null,
      "outputs": []
    },
    {
      "cell_type": "code",
      "metadata": {
        "id": "Yx2HqjTwHjoT"
      },
      "source": [
        "a=np.array(['a','b',['c','d',['e']]])"
      ],
      "execution_count": null,
      "outputs": []
    },
    {
      "cell_type": "code",
      "metadata": {
        "id": "1CJx6qtMHc7x",
        "outputId": "11833ed7-f9ff-4065-d76e-2df0cb7bce77",
        "colab": {
          "base_uri": "https://localhost:8080/",
          "height": 34
        }
      },
      "source": [
        "a"
      ],
      "execution_count": null,
      "outputs": [
        {
          "output_type": "execute_result",
          "data": {
            "text/plain": [
              "array(['a', 'b', list(['c', 'd', ['e']])], dtype=object)"
            ]
          },
          "metadata": {
            "tags": []
          },
          "execution_count": 5
        }
      ]
    },
    {
      "cell_type": "code",
      "metadata": {
        "id": "ta9FBiAPIau9",
        "outputId": "a708a620-115e-4cf9-a5a3-cfca40c2983c",
        "colab": {
          "base_uri": "https://localhost:8080/",
          "height": 34
        }
      },
      "source": [
        "res=[]\n",
        "seq1=['a','b',['c','d',['e',['t']]]]\n",
        "def flatlist(seq):\n",
        "  for i in seq: \n",
        "    if type(i) == list: \n",
        "      flatlist(i) \n",
        "    else: \n",
        "      res.append(i)\n",
        "  return res\n",
        "flatlist(seq1)"
      ],
      "execution_count": null,
      "outputs": [
        {
          "output_type": "execute_result",
          "data": {
            "text/plain": [
              "['a', 'b', 'c', 'd', 'e', 't']"
            ]
          },
          "metadata": {
            "tags": []
          },
          "execution_count": 7
        }
      ]
    },
    {
      "cell_type": "code",
      "metadata": {
        "id": "g0-Goyzkgn3P"
      },
      "source": [
        "import itertools"
      ],
      "execution_count": null,
      "outputs": []
    },
    {
      "cell_type": "code",
      "metadata": {
        "id": "uH19Njf3grEV",
        "outputId": "a839e47b-6688-4163-a509-5c7887b97e5a",
        "colab": {
          "base_uri": "https://localhost:8080/",
          "height": 34
        }
      },
      "source": [
        "arr=[[-3,-4],[1,2,-3]]\n",
        "for i in arr:\n",
        "  l1=list(itertools.product(arr))\n",
        "l2=[]\n",
        "for i in l1:\n",
        "  l2.append(np.prod(list(i)))\n",
        "l2"
      ],
      "execution_count": null,
      "outputs": [
        {
          "output_type": "execute_result",
          "data": {
            "text/plain": [
              "[12, -6]"
            ]
          },
          "metadata": {
            "tags": []
          },
          "execution_count": 8
        }
      ]
    },
    {
      "cell_type": "code",
      "metadata": {
        "id": "m7o1gW1gOSSc",
        "outputId": "bb29797c-9591-4056-838b-fb819d01a563",
        "colab": {
          "base_uri": "https://localhost:8080/",
          "height": 34
        }
      },
      "source": [
        "ord('A')"
      ],
      "execution_count": null,
      "outputs": [
        {
          "output_type": "execute_result",
          "data": {
            "text/plain": [
              "65"
            ]
          },
          "metadata": {
            "tags": []
          },
          "execution_count": 4
        }
      ]
    },
    {
      "cell_type": "code",
      "metadata": {
        "id": "ulvtYpaveA2j",
        "outputId": "5f55c46c-1e9a-4143-879e-729f5604802e",
        "colab": {
          "base_uri": "https://localhost:8080/",
          "height": 35
        }
      },
      "source": [
        "s=\"Test\"\n",
        "r=\"\"\n",
        "for i in s:\n",
        "  if(96<ord(i)<123):\n",
        "    l=ord(i)+13\n",
        "    if(l>122):\n",
        "      r=r+chr(l-26)\n",
        "    else:\n",
        "      r=r+chr(l)\n",
        "  if(64<ord(i)<91):\n",
        "    u=ord(i)+13\n",
        "    if(u>90):\n",
        "      r=r+chr(u-26)\n",
        "    else:\n",
        "      r=r+chr(u)\n",
        "r"
      ],
      "execution_count": null,
      "outputs": [
        {
          "output_type": "execute_result",
          "data": {
            "application/vnd.google.colaboratory.intrinsic+json": {
              "type": "string"
            },
            "text/plain": [
              "'Grfg'"
            ]
          },
          "metadata": {
            "tags": []
          },
          "execution_count": 6
        }
      ]
    },
    {
      "cell_type": "code",
      "metadata": {
        "id": "UserRmFDhNty",
        "outputId": "9059dce8-b0e3-4c30-f59c-0e64672583c7",
        "colab": {
          "base_uri": "https://localhost:8080/",
          "height": 34
        }
      },
      "source": [
        "'3'.isalpha()"
      ],
      "execution_count": null,
      "outputs": [
        {
          "output_type": "execute_result",
          "data": {
            "text/plain": [
              "False"
            ]
          },
          "metadata": {
            "tags": []
          },
          "execution_count": 11
        }
      ]
    },
    {
      "cell_type": "code",
      "metadata": {
        "id": "8AyKm7lmadch"
      },
      "source": [
        "lst=[47,84,-30,-11,-5,74,-77]"
      ],
      "execution_count": null,
      "outputs": []
    },
    {
      "cell_type": "code",
      "metadata": {
        "id": "vnBuYZyBatCA",
        "outputId": "4bba82d6-6308-46ab-e60e-4dde19d2160f",
        "colab": {
          "base_uri": "https://localhost:8080/",
          "height": 34
        }
      },
      "source": [
        "c=0\n",
        "for i in range(len(lst)-1):\n",
        "  if((lst[i]<0 and lst[i+1]>=0) or (lst[i]>=0 and lst[i+1]<0)):\n",
        "    c+=1\n",
        "c"
      ],
      "execution_count": null,
      "outputs": [
        {
          "output_type": "execute_result",
          "data": {
            "text/plain": [
              "3"
            ]
          },
          "metadata": {
            "tags": []
          },
          "execution_count": 11
        }
      ]
    },
    {
      "cell_type": "code",
      "metadata": {
        "id": "ieQoaQUPgcxi",
        "outputId": "4c441e90-bd85-4412-c993-33d7b730dc96",
        "colab": {
          "base_uri": "https://localhost:8080/",
          "height": 34
        }
      },
      "source": [
        "present=(1,5,8)\n",
        "sum(present)"
      ],
      "execution_count": null,
      "outputs": [
        {
          "output_type": "execute_result",
          "data": {
            "text/plain": [
              "14"
            ]
          },
          "metadata": {
            "tags": []
          },
          "execution_count": 12
        }
      ]
    },
    {
      "cell_type": "code",
      "metadata": {
        "id": "w0ej_p2qfopc",
        "outputId": "6435c644-4d64-4d33-907f-c03b56befaa0",
        "colab": {
          "base_uri": "https://localhost:8080/",
          "height": 68
        }
      },
      "source": [
        "from collections import Counter \n",
        "a=[1,5,6,2,3,4,6,1,2,4,3,4,6,2]\n",
        "b=Counter(a)\n",
        "c=max(list(b.values()))\n",
        "print(b)\n",
        "print(c)\n",
        "r=[]\n",
        "for i in b.items():\n",
        "    if(i[1]==c):\n",
        "      r.append(i[0])\n",
        "print(sorted(r))"
      ],
      "execution_count": null,
      "outputs": [
        {
          "output_type": "stream",
          "text": [
            "Counter({6: 3, 2: 3, 4: 3, 1: 2, 3: 2, 5: 1})\n",
            "3\n",
            "[2, 4, 6]\n"
          ],
          "name": "stdout"
        }
      ]
    }
  ]
}